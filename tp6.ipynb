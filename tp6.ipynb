{
 "cells": [
  {
   "cell_type": "markdown",
   "metadata": {},
   "source": [
    "#  Conception et analyse d'expériences contrôlées\n",
    "\n",
    "### BRUNEAU Richard et VASLIN Pierre"
   ]
  },
  {
   "cell_type": "markdown",
   "metadata": {},
   "source": [
    "## Loading libraries and other dependencies"
   ]
  },
  {
   "cell_type": "code",
   "execution_count": 10,
   "metadata": {},
   "outputs": [],
   "source": [
    "import pandas as pd\n",
    "import numpy as np\n",
    "import seaborn as sns\n",
    "from scipy import stats\n",
    "import matplotlib.pyplot as plt\n",
    "from sklearn.preprocessing import normalize\n",
    "from statsmodels.stats.anova import AnovaRM\n",
    "PARTICIPANTS = [23,10,7,20,17,19,1,26,4,12,3,24,8,18,25,22,6]"
   ]
  },
  {
   "cell_type": "code",
   "execution_count": 11,
   "metadata": {},
   "outputs": [
    {
     "data": {
      "text/html": [
       "<div>\n",
       "<style scoped>\n",
       "    .dataframe tbody tr th:only-of-type {\n",
       "        vertical-align: middle;\n",
       "    }\n",
       "\n",
       "    .dataframe tbody tr th {\n",
       "        vertical-align: top;\n",
       "    }\n",
       "\n",
       "    .dataframe thead th {\n",
       "        text-align: right;\n",
       "    }\n",
       "</style>\n",
       "<table border=\"1\" class=\"dataframe\">\n",
       "  <thead>\n",
       "    <tr style=\"text-align: right;\">\n",
       "      <th></th>\n",
       "      <th>WPM</th>\n",
       "      <th>Condition</th>\n",
       "      <th>participant-id</th>\n",
       "    </tr>\n",
       "  </thead>\n",
       "  <tbody>\n",
       "    <tr>\n",
       "      <th>0</th>\n",
       "      <td>30.0</td>\n",
       "      <td>Gesture</td>\n",
       "      <td>1</td>\n",
       "    </tr>\n",
       "    <tr>\n",
       "      <th>1</th>\n",
       "      <td>24.0</td>\n",
       "      <td>Predictive</td>\n",
       "      <td>1</td>\n",
       "    </tr>\n",
       "    <tr>\n",
       "      <th>2</th>\n",
       "      <td>62.0</td>\n",
       "      <td>Simple</td>\n",
       "      <td>1</td>\n",
       "    </tr>\n",
       "    <tr>\n",
       "      <th>3</th>\n",
       "      <td>27.0</td>\n",
       "      <td>Gesture</td>\n",
       "      <td>1</td>\n",
       "    </tr>\n",
       "    <tr>\n",
       "      <th>4</th>\n",
       "      <td>33.0</td>\n",
       "      <td>Predictive</td>\n",
       "      <td>1</td>\n",
       "    </tr>\n",
       "    <tr>\n",
       "      <th>...</th>\n",
       "      <td>...</td>\n",
       "      <td>...</td>\n",
       "      <td>...</td>\n",
       "    </tr>\n",
       "    <tr>\n",
       "      <th>220</th>\n",
       "      <td>17.0</td>\n",
       "      <td>Simple</td>\n",
       "      <td>26</td>\n",
       "    </tr>\n",
       "    <tr>\n",
       "      <th>221</th>\n",
       "      <td>8.0</td>\n",
       "      <td>Predictive</td>\n",
       "      <td>26</td>\n",
       "    </tr>\n",
       "    <tr>\n",
       "      <th>222</th>\n",
       "      <td>13.0</td>\n",
       "      <td>Simple</td>\n",
       "      <td>26</td>\n",
       "    </tr>\n",
       "    <tr>\n",
       "      <th>223</th>\n",
       "      <td>15.0</td>\n",
       "      <td>Gesture</td>\n",
       "      <td>26</td>\n",
       "    </tr>\n",
       "    <tr>\n",
       "      <th>224</th>\n",
       "      <td>10.0</td>\n",
       "      <td>Predictive</td>\n",
       "      <td>26</td>\n",
       "    </tr>\n",
       "  </tbody>\n",
       "</table>\n",
       "<p>153 rows × 3 columns</p>\n",
       "</div>"
      ],
      "text/plain": [
       "      WPM   Condition  participant-id\n",
       "0    30.0     Gesture               1\n",
       "1    24.0  Predictive               1\n",
       "2    62.0      Simple               1\n",
       "3    27.0     Gesture               1\n",
       "4    33.0  Predictive               1\n",
       "..    ...         ...             ...\n",
       "220  17.0      Simple              26\n",
       "221   8.0  Predictive              26\n",
       "222  13.0      Simple              26\n",
       "223  15.0     Gesture              26\n",
       "224  10.0  Predictive              26\n",
       "\n",
       "[153 rows x 3 columns]"
      ]
     },
     "execution_count": 11,
     "metadata": {},
     "output_type": "execute_result"
    }
   ],
   "source": [
    "data = pd.read_csv(\"dataset.csv\",sep=\",\")\n",
    "dataset = data[data[\"participant-id\"].isin(PARTICIPANTS)]\n",
    "dataset.head()\n",
    "\n",
    "dataset = dataset[[\"WPM\",\"Condition\",\"participant-id\"]]\n",
    "dataset"
   ]
  },
  {
   "cell_type": "markdown",
   "metadata": {},
   "source": [
    "## Visualisation des données\n",
    "\n",
    "On dessine un [violin plot ](https://ggplot2.tidyverse.org/reference/geom_violin.html) avec l'affichage de tous les points pour voir la distribution."
   ]
  },
  {
   "cell_type": "code",
   "execution_count": 12,
   "metadata": {},
   "outputs": [
    {
     "data": {
      "image/png": "[encoded data removed]",
      "text/plain": [
       "<Figure size 432x504 with 1 Axes>"
      ]
     },
     "metadata": {
      "needs_background": "light"
     },
     "output_type": "display_data"
    }
   ],
   "source": [
    "f, ax = plt.subplots(figsize=(6, 7))\n",
    "sns.violinplot(data=dataset,y=dataset[\"WPM\"],x=dataset[\"Condition\"])\n",
    "ax.set_xlabel(\"Méthode\")\n",
    "plt.show()"
   ]
  },
  {
   "cell_type": "markdown",
   "metadata": {},
   "source": [
    "On constate que le clavier gestuel semble moins performant en mot par minute comparé à la méthode prédictive et la méthode simple.\n",
    "\n",
    "\n",
    "On réalise ensuite un boxplot avec chaque participant."
   ]
  },
  {
   "cell_type": "code",
   "execution_count": 14,
   "metadata": {},
   "outputs": [
    {
     "data": {
      "image/png": "[encoded data removed]",
      "text/plain": [
       "<Figure size 432x504 with 1 Axes>"
      ]
     },
     "metadata": {
      "needs_background": "light"
     },
     "output_type": "display_data"
    }
   ],
   "source": [
    "f, ax = plt.subplots(figsize=(6, 7))\n",
    "sns.boxplot(data=dataset,y=dataset[\"WPM\"],x=dataset[\"participant-id\"])\n",
    "ax.set_xlabel(\"Participants\")\n",
    "ax.set_title(\"Distribution des essais de chaque participant\")\n",
    "plt.show()"
   ]
  },
  {
   "cell_type": "markdown",
   "metadata": {},
   "source": [
    "Avec ce graphique, on peut voir que la répartition des boxplots est plutôt homogène. Le participant n°1 a niveau supérieur à la moyenne tant dis que le participant n°12 a réalisé des performances très variées.  \n",
    "\n",
    "Nous allons maintenant regarder la répartition des différents types de clavier. "
   ]
  },
  {
   "cell_type": "code",
   "execution_count": 15,
   "metadata": {},
   "outputs": [
    {
     "data": {
      "image/png": "[encoded data removed]",
      "text/plain": [
       "<Figure size 432x504 with 1 Axes>"
      ]
     },
     "metadata": {
      "needs_background": "light"
     },
     "output_type": "display_data"
    }
   ],
   "source": [
    "f, ax = plt.subplots(figsize=(6, 7))\n",
    "sns.boxplot(data=dataset,y=dataset[\"WPM\"],x=dataset[\"Condition\"])\n",
    "ax.set_xlabel(\"Méthode\")\n",
    "plt.show()"
   ]
  },
  {
   "cell_type": "markdown",
   "metadata": {},
   "source": [
    "Cette visualisation est à mettre en comparaison des violins plots vus précédemment."
   ]
  },
  {
   "cell_type": "code",
   "execution_count": 17,
   "metadata": {},
   "outputs": [
    {
     "ename": "AttributeError",
     "evalue": "module 'seaborn' has no attribute 'hisplot'",
     "output_type": "error",
     "traceback": [
      "\u001b[0;31m------------------------------------------------------------\u001b[0m",
      "\u001b[0;31mAttributeError\u001b[0m             Traceback (most recent call last)",
      "\u001b[0;32m<ipython-input-17-8e0b438cde97>\u001b[0m in \u001b[0;36m<module>\u001b[0;34m\u001b[0m\n\u001b[0;32m----> 1\u001b[0;31m \u001b[0msns\u001b[0m\u001b[0;34m.\u001b[0m\u001b[0mhisplot\u001b[0m\u001b[0;34m(\u001b[0m\u001b[0mdata\u001b[0m\u001b[0;34m=\u001b[0m\u001b[0mdataset\u001b[0m\u001b[0;34m,\u001b[0m\u001b[0mx\u001b[0m\u001b[0;34m=\u001b[0m\u001b[0mdataset\u001b[0m\u001b[0;34m[\u001b[0m\u001b[0;34m\"WPM\"\u001b[0m\u001b[0;34m]\u001b[0m\u001b[0;34m)\u001b[0m\u001b[0;34m\u001b[0m\u001b[0;34m\u001b[0m\u001b[0m\n\u001b[0m\u001b[1;32m      2\u001b[0m \u001b[0mplt\u001b[0m\u001b[0;34m.\u001b[0m\u001b[0mshow\u001b[0m\u001b[0;34m(\u001b[0m\u001b[0;34m)\u001b[0m\u001b[0;34m\u001b[0m\u001b[0;34m\u001b[0m\u001b[0m\n",
      "\u001b[0;31mAttributeError\u001b[0m: module 'seaborn' has no attribute 'hisplot'"
     ]
    }
   ],
   "source": [
    "sns.displot(data=dataset,x=dataset[\"WPM\"])\n",
    "plt.show()"
   ]
  },
  {
   "cell_type": "code",
   "execution_count": null,
   "metadata": {},
   "outputs": [],
   "source": [
    "sns.displot(dataset,x=\"WPM\",col=\"Condition\",kde=True)\n",
    "plt.show()"
   ]
  },
  {
   "cell_type": "markdown",
   "metadata": {},
   "source": [
    "Après avoir regardé les différentes visualisations, nous constatons que les données sont cohérentes. Une première intuition, qui dirait que le clavier gestuel est plus lent, se retrouve dans les statistiques. Les individus 1, 3 et 26 ont des statistiques plus atypiques que les autres indivuds, mais on constaste que la médiane est dans la norme des autres individus. Pour la répartition indiquée par les diagrammes en barre, à nuveau, elle est cohérente.   "
   ]
  },
  {
   "cell_type": "markdown",
   "metadata": {},
   "source": [
    "### Test de shapiro de normalisation"
   ]
  },
  {
   "cell_type": "code",
   "execution_count": 20,
   "metadata": {},
   "outputs": [],
   "source": [
    "simple = dataset[dataset[\"Condition\"] == \"Simple\"][\"WPM\"]\n",
    "predictive = dataset[dataset[\"Condition\"] == \"Predictive\"][\"WPM\"]\n",
    "gesture = dataset[dataset[\"Condition\"] == \"Gesture\"][\"WPM\"]"
   ]
  },
  {
   "cell_type": "code",
   "execution_count": 21,
   "metadata": {},
   "outputs": [
    {
     "name": "stdout",
     "output_type": "stream",
     "text": [
      "ShapiroResult(statistic=0.926790177822113, pvalue=0.003757983446121216)\n",
      "ShapiroResult(statistic=0.9258553385734558, pvalue=0.0034652617760002613)\n",
      "ShapiroResult(statistic=0.9770665764808655, pvalue=0.42278847098350525)\n"
     ]
    }
   ],
   "source": [
    "resultSimple = stats.shapiro(simple) #(the statistic, p-value)\n",
    "resultPredictive = stats.shapiro(predictive)\n",
    "resultGesture = stats.shapiro(gesture)\n",
    "print(resultSimple)\n",
    "print(resultPredictive)\n",
    "print(resultGesture)"
   ]
  },
  {
   "cell_type": "markdown",
   "metadata": {},
   "source": [
    "On constate ici que la *p_value* est inférieur à 0.05 pour le clavier simple et le clavier prédictif. Cela signifie qu'il est improbable d'obtenir ces données si elles sont normalement distribuées. \n",
    "\n",
    "En revanche, pour le clavier gestuel, la *p_value* est supérieur à 0.05, ce qui implique qu'on ne doit pas rejeter l'hypothèse nulle.\n",
    "\n",
    "\n",
    "### Q-Q plot"
   ]
  },
  {
   "cell_type": "code",
   "execution_count": 22,
   "metadata": {},
   "outputs": [
    {
     "data": {
      "text/plain": [
       "Text(0.5, 1.0, 'Gesture')"
      ]
     },
     "execution_count": 22,
     "metadata": {},
     "output_type": "execute_result"
    },
    {
     "data": {
      "image/png": "[encoded data removed]",
      "text/plain": [
       "<Figure size 720x432 with 3 Axes>"
      ]
     },
     "metadata": {
      "needs_background": "light"
     },
     "output_type": "display_data"
    }
   ],
   "source": [
    "f, ax = plt.subplots(ncols=3,figsize=(10, 6))\n",
    "r = stats.probplot(simple,plot=ax[0])\n",
    "r = stats.probplot(predictive,plot=ax[1])\n",
    "r = stats.probplot(gesture,plot=ax[2])\n",
    "ax[0].set_title(\"Simple\")\n",
    "ax[1].set_title(\"Predictive\")\n",
    "ax[2].set_title(\"Gesture\")\n"
   ]
  },
  {
   "cell_type": "markdown",
   "metadata": {},
   "source": [
    "Sur les courbes ci-dessus, on constate que les statistiques des claviers simple et predictive ne sont pas totalement fidèle à la droite alors que pour le clavier gestuel les points sont plus fidèles à la droite."
   ]
  },
  {
   "cell_type": "code",
   "execution_count": null,
   "metadata": {},
   "outputs": [],
   "source": [
    "# test_norm = normalize(simple)\n",
    "# test_norm"
   ]
  },
  {
   "cell_type": "markdown",
   "metadata": {},
   "source": [
    "### T-Test"
   ]
  },
  {
   "cell_type": "code",
   "execution_count": 23,
   "metadata": {},
   "outputs": [
    {
     "data": {
      "text/plain": [
       "Ttest_indResult(statistic=1.6560322160250354, pvalue=0.10085009346227809)"
      ]
     },
     "execution_count": 23,
     "metadata": {},
     "output_type": "execute_result"
    }
   ],
   "source": [
    "stats.ttest_ind(simple, predictive)"
   ]
  },
  {
   "cell_type": "markdown",
   "metadata": {},
   "source": [
    "Ici, la *p_value* est supérieur à 0.05, le résultat n'est pas significatif"
   ]
  },
  {
   "cell_type": "code",
   "execution_count": 24,
   "metadata": {},
   "outputs": [
    {
     "data": {
      "text/plain": [
       "Ttest_indResult(statistic=5.9008694580771515, pvalue=4.961078333460901e-08)"
      ]
     },
     "execution_count": 24,
     "metadata": {},
     "output_type": "execute_result"
    }
   ],
   "source": [
    "stats.ttest_ind(simple, gesture)"
   ]
  },
  {
   "cell_type": "markdown",
   "metadata": {},
   "source": [
    "Ici, la *p_value* est inférieur à 0.05, le résultat est donc significatif."
   ]
  },
  {
   "cell_type": "markdown",
   "metadata": {},
   "source": [
    "### ANOVA"
   ]
  },
  {
   "cell_type": "code",
   "execution_count": 25,
   "metadata": {},
   "outputs": [
    {
     "name": "stdout",
     "output_type": "stream",
     "text": [
      "                 Anova\n",
      "=======================================\n",
      "          F Value Num DF  Den DF Pr > F\n",
      "---------------------------------------\n",
      "Condition 12.3585 2.0000 32.0000 0.0001\n",
      "=======================================\n",
      "\n"
     ]
    }
   ],
   "source": [
    "dataset_modif = dataset.copy()\n",
    "dataset_modif[\"Id\"] = dataset_modif[\"participant-id\"]\n",
    "result = AnovaRM(\n",
    "    data=dataset_modif,\n",
    "    depvar=\"WPM\",\n",
    "    subject=\"Id\",\n",
    "    within=[\"Condition\"],\n",
    "    aggregate_func=\"mean\"\n",
    ").fit()\n",
    "print(result)"
   ]
  },
  {
   "cell_type": "markdown",
   "metadata": {},
   "source": [
    "La *p_value* étant inférieure à 0.05, les différences entre les moyennes sont statstiquement significatives."
   ]
  }
 ],
 "metadata": {
  "kernelspec": {
   "display_name": "Python 3",
   "language": "python",
   "name": "python3"
  },
  "language_info": {
   "codemirror_mode": {
    "name": "ipython",
    "version": 3
   },
   "file_extension": ".py",
   "mimetype": "text/x-python",
   "name": "python",
   "nbconvert_exporter": "python",
   "pygments_lexer": "ipython3",
   "version": "3.7.6"
  }
 },
 "nbformat": 4,
 "nbformat_minor": 2
}
